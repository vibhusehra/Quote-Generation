{
 "cells": [
  {
   "cell_type": "code",
   "execution_count": 1,
   "metadata": {
    "collapsed": true
   },
   "outputs": [],
   "source": [
    "import numpy as np"
   ]
  },
  {
   "cell_type": "code",
   "execution_count": 65,
   "metadata": {
    "collapsed": true
   },
   "outputs": [],
   "source": [
    "#get text\n",
    "with open(\"quotes.txt\",'r') as r:\n",
    "    text = r.read()\n",
    "    text = text.lower()\n",
    "r.close()"
   ]
  },
  {
   "cell_type": "code",
   "execution_count": 66,
   "metadata": {},
   "outputs": [
    {
     "name": "stdout",
     "output_type": "stream",
     "text": [
      "the world as we have created it is a process of our thinking. it cannot be changed without changing our thinking.\n",
      "it is our choices, harry, that show what we truly are, far more than our abilities.\n",
      "there are only two ways to live your life. one is as though nothing is a miracle. the other is as though everything is a miracle.\n",
      "the person, be it gentleman or lady, who has not pleasure in a good novel, must be intolerably stupid.\n",
      "imperfection is beauty, madness is genius and it's better to be absolutely ridiculous than absolutely boring.\n",
      "try not to become a man of success. rather become a man of value.\n",
      "it is better to be hated for what you are than to be loved for what you are not.\n",
      "i have not failed. i've just found 10,000 ways that won't work.\n",
      "a woman is like a tea bag; you never know how strong it is until it's in hot water.\n",
      "a day without sunshine is like, you know, night.\n",
      "this life is what you make it. no matter what, you're going to mess up sometimes, it's a universal truth. but the good part is you get to decide how you're going to mess it up. girls will be your friends - they'll act like it anyway. but just remember, some come, some go. the ones that stay with you through everything - they're your true best friends. don't let go of them. also remember, sisters make the best friends in the world. as for lovers, well, they'll come and go too. and baby, i hate to say it, most of them - actually pretty much all of them are going to break your heart, but you can't give up because if you give up, you'll never find your soulmate. you'll never find that half who makes you whole and that goes for everything. just because you fail once, doesn't mean you're gonna fail at everything. keep trying, hold on, and always, always, always believe in yourself, because if you don't, then who will, sweetie? so keep your head high, keep your chin up, and most importantly, keep smiling, because life's a beautiful thing and there's so much to smile about.\n",
      "it takes a great deal of bravery to stand up to our enemies, but just as much to stand up to our friends.\n",
      "if you can't explain it to a six year old, you don't understand it yourself.\n",
      "you may not be her first, her last, or her only. she loved before she may love again. but if she loves you now, what else matters? she's not perfect—you aren't either, and the two of you may never be perfect together but if she can make you laugh, cause you to think twice, and admit to being human and making mistakes, hold onto her and give her the most you can. she may not be thinking about you every second of the day, but she will give you a part of her that she knows you can break—her heart. so don't hurt her, don't change her, don't analyze and don't expect more than she can give. smile when she makes you happy, let her know when she makes you mad, and miss her when she's not there.\n",
      "i like nonsense, it wakes up the brain cells. fantasy is a necessary ingredient in living.\n",
      "i may not have gone where i intended to go, but i think i have ended up where i needed to be.\n",
      "the opposite of love is not hate, it's indifference. the opposite of art is not ugliness, it's indifference. the opposite of faith is not heresy, it's indifference. and the opposite of life is not death, it's indifference.\n",
      "it is not a lack of love, but a lack of friendship that makes unhappy marriages.\n",
      "good friends, good books, and a sleepy conscience: this is the ideal life.\n",
      "life is what happens to us while we are making other plans.\n",
      "i love you without knowing how, or when, or from where. i love you simply, without problems or pride: i love you in this way because i do not know any other way of loving but this, in which there is no i or you, so intimate that your hand upon my chest is my hand, so intimate that when i fall asleep your eyes close.\n",
      "for every minute you are angry you lose sixty seconds of happiness.\n",
      "if you judge people, you have no time to love them.\n",
      "anyone who thinks sitting in church can make you a christian must also think that sitting in a garage can make you a car.\n",
      "beauty is in the eye of the beholder and it may be necessary from time to time to give a stupid or misinformed beholder a black eye.\n",
      "today you are you, that is truer than true. there is no one alive who is youer than you.\n",
      "if you want your children to be intelligent, read them fairy tales. if you want them to be more intelligent, read them more fairy tales.\n",
      "it is impossible to live without failing at something, unless you live so cautiously that you might as well not have lived at all - in which case, you fail by default.\n",
      "logic will get you from a to z; imagination will get you everywhere.\n",
      "one good thing about music, when it hits you, you feel no pain.\n",
      "\n"
     ]
    }
   ],
   "source": [
    "print(text)"
   ]
  },
  {
   "cell_type": "code",
   "execution_count": 26,
   "metadata": {
    "collapsed": true
   },
   "outputs": [],
   "source": [
    "def generateTable(text,k,T): #text = provided text, k=number of prefixes(hyper paramter), T = table dictionary  \n",
    "    #iterate text k characters per iteration\n",
    "    for i in range(len(text)-k):\n",
    "        word = text[i:i+k]\n",
    "        #next target character\n",
    "        pred = text[i+k]\n",
    "        \n",
    "        #store it in the dictionary\n",
    "        if T.get(word) is None:\n",
    "            T[word] = {}\n",
    "            T[word][pred] = 1\n",
    "        else:\n",
    "            if T[word].get(pred) is None:\n",
    "                T[word][pred] = 1\n",
    "            else:\n",
    "                T[word][pred] += 1\n",
    "    return T\n",
    "        "
   ]
  },
  {
   "cell_type": "code",
   "execution_count": 28,
   "metadata": {},
   "outputs": [
    {
     "data": {
      "text/plain": [
       "{' he': {'l': 3},\n",
       " 'ell': {'i': 1, 'o': 1, 'z': 1},\n",
       " 'ey ': {'h': 1},\n",
       " 'hel': {'l': 3},\n",
       " 'hey': {' ': 1},\n",
       " 'i h': {'e': 1},\n",
       " 'ii ': {'h': 1},\n",
       " 'lii': {' ': 1},\n",
       " 'lli': {'i': 1},\n",
       " 'llo': {' ': 1},\n",
       " 'lo ': {'h': 1},\n",
       " 'o h': {'e': 1},\n",
       " 'y h': {'e': 1}}"
      ]
     },
     "execution_count": 28,
     "metadata": {},
     "output_type": "execute_result"
    }
   ],
   "source": [
    "#test\n",
    "T = {}\n",
    "T = generateTable(\"hey hello hellii hellz\",3,T)\n",
    "T"
   ]
  },
  {
   "cell_type": "code",
   "execution_count": 31,
   "metadata": {
    "collapsed": true
   },
   "outputs": [],
   "source": [
    "def convertToFreq(T):\n",
    "    for x in T.keys():\n",
    "        #sum\n",
    "        s = float(sum(T[x].values()))\n",
    "        for i in T[x].keys():\n",
    "            T[x][i] = T[x][i]/s\n",
    "    return T"
   ]
  },
  {
   "cell_type": "code",
   "execution_count": 32,
   "metadata": {},
   "outputs": [
    {
     "data": {
      "text/plain": [
       "{' he': {'l': 1.0},\n",
       " 'ell': {'i': 0.3333333333333333,\n",
       "  'o': 0.3333333333333333,\n",
       "  'z': 0.3333333333333333},\n",
       " 'ey ': {'h': 1.0},\n",
       " 'hel': {'l': 1.0},\n",
       " 'hey': {' ': 1.0},\n",
       " 'i h': {'e': 1.0},\n",
       " 'ii ': {'h': 1.0},\n",
       " 'lii': {' ': 1.0},\n",
       " 'lli': {'i': 1.0},\n",
       " 'llo': {' ': 1.0},\n",
       " 'lo ': {'h': 1.0},\n",
       " 'o h': {'e': 1.0},\n",
       " 'y h': {'e': 1.0}}"
      ]
     },
     "execution_count": 32,
     "metadata": {},
     "output_type": "execute_result"
    }
   ],
   "source": [
    "T = convertToFreq(T)\n",
    "T"
   ]
  },
  {
   "cell_type": "code",
   "execution_count": 38,
   "metadata": {
    "collapsed": true
   },
   "outputs": [],
   "source": [
    "def sample(context,T):\n",
    "    nxt = T.get(context)\n",
    "    if nxt is None:\n",
    "        return \" \"\n",
    "    \n",
    "    given_key = []\n",
    "    given_prob = []\n",
    "    for i in nxt:\n",
    "        given_key.append(i)\n",
    "        given_prob.append(nxt[i])\n",
    "    return np.random.choice(given_key,p=given_prob)"
   ]
  },
  {
   "cell_type": "code",
   "execution_count": 57,
   "metadata": {},
   "outputs": [
    {
     "data": {
      "text/plain": [
       "'o'"
      ]
     },
     "execution_count": 57,
     "metadata": {},
     "output_type": "execute_result"
    }
   ],
   "source": [
    "sample('ell',T)"
   ]
  },
  {
   "cell_type": "code",
   "execution_count": 68,
   "metadata": {},
   "outputs": [],
   "source": [
    "def model(context,num_chars,text,k):\n",
    "    T = {}\n",
    "    T = generateTable(text,k,T)\n",
    "    T = convertToFreq(T)\n",
    "    sentence = context\n",
    "    for i in range(num_chars):\n",
    "        gen = sample(context,T)\n",
    "        sentence += gen\n",
    "        context = sentence[-k:]\n",
    "    return sentence"
   ]
  },
  {
   "cell_type": "code",
   "execution_count": 75,
   "metadata": {},
   "outputs": [
    {
     "name": "stdout",
     "output_type": "stream",
     "text": [
      "person, because if you through ever knowing mistakes a greated it genius a\n"
     ]
    }
   ],
   "source": [
    "print(model(\"pers\",70,text,4))"
   ]
  },
  {
   "cell_type": "code",
   "execution_count": null,
   "metadata": {
    "collapsed": true
   },
   "outputs": [],
   "source": []
  }
 ],
 "metadata": {
  "kernelspec": {
   "display_name": "Python 3",
   "language": "python",
   "name": "python3"
  },
  "language_info": {
   "codemirror_mode": {
    "name": "ipython",
    "version": 3
   },
   "file_extension": ".py",
   "mimetype": "text/x-python",
   "name": "python",
   "nbconvert_exporter": "python",
   "pygments_lexer": "ipython3",
   "version": "3.5.4"
  }
 },
 "nbformat": 4,
 "nbformat_minor": 2
}
